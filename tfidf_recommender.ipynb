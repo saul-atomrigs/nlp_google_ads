{
    "cells": [
        {
            "cell_type": "markdown",
            "source": [
                "# TF-IDF Content Based 추천 시스템\n",
                "\n",
                "## 개요 Abstract\n",
                "TF-IDF란 수많은 문서들 중 query 문장과 가장 유사한 문서들을 골라내는 알고리즘이다.\n",
                "이를 추천 시스템으로 응용할 수 있다. 즉, 상품 상세페이지의 설명글을 문서(document)로 분류하고 상품명을 query문장으로 치환하는 것이다.  "
            ],
            "metadata": {}
        },
        {
            "cell_type": "code",
            "execution_count": null,
            "source": [
                "import sys\n",
                "from reco_utils.recommender.tfidf.tfidf_utils import TfidfRecommender"
            ],
            "outputs": [],
            "metadata": {}
        },
        {
            "cell_type": "code",
            "execution_count": null,
            "source": [],
            "outputs": [],
            "metadata": {}
        }
    ],
    "metadata": {
        "orig_nbformat": 4,
        "language_info": {
            "name": "python"
        }
    },
    "nbformat": 4,
    "nbformat_minor": 2
}