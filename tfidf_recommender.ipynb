{
    "cells": [
        {
            "cell_type": "markdown",
            "source": [
                "# TF-IDF Content Based 추천 시스템\n",
                "\n",
                "## 개요 Abstract\n",
                "TF-IDF란 수많은 문서들 중 query 문장과 가장 유사한 문서들을 골라내는 알고리즘이다.\n",
                "이를 추천 시스템으로 응용할 수 있다. 즉, 상품 상세페이지의 설명글을 문서(document)로 분류하고 상품명을 query문장으로 치환하는 것이다.  "
            ],
            "metadata": {}
        },
        {
            "cell_type": "code",
            "execution_count": null,
            "source": [
                "import sys\n",
                "from reco_utils.recommender.tfidf.tfidf_utils import TfidfRecommender"
            ],
            "outputs": [],
            "metadata": {}
        },
        {
            "cell_type": "markdown",
            "source": [
                "## 1. 데이터셋 불러오기\n",
                "상품페이지 metadata가 포함되어 있는 csv파일을 불러온다 (metadata.csv)"
            ],
            "metadata": {}
        },
        {
            "cell_type": "code",
            "execution_count": null,
            "source": [
                "import pandas as pd\n",
                "\n",
                "container_name = 'covid19temp'\n",
                "metadata_filename = pd.read_cvs('metadata.csv') # 상품명, 상세페이지, 태그 등이 포함된 데이터셋\n"
            ],
            "outputs": [],
            "metadata": {}
        },
        {
            "cell_type": "markdown",
            "source": [
                "## 2. recommender 객체 생성하기"
            ],
            "metadata": {}
        },
        {
            "cell_type": "code",
            "execution_count": null,
            "source": [
                "recommender = TfidfRecommender(id_col='',tokenization_method='bert')"
            ],
            "outputs": [],
            "metadata": {}
        },
        {
            "cell_type": "markdown",
            "source": [
                "## 3. 텍스트(상세페이지) 전처리"
            ],
            "metadata": {}
        },
        {
            "cell_type": "code",
            "execution_count": null,
            "source": [
                "cols_to_clean = ['title','description'] # 전처리할 특성들\n",
                "clean_col = 'cleaned_text' # 새로 전처리된 텍스트\n",
                "df_clean = recommender.clean_dataframe(all_text, cols_to_clean, clean_col) # 전처리된 데이터프레임"
            ],
            "outputs": [],
            "metadata": {}
        },
        {
            "cell_type": "code",
            "execution_count": null,
            "source": [
                "# Tokenize text with tokenization_method specified in class instantiation\n",
                "tf, vectors_tokenized = recommender.tokenize_text(df_clean, text_col=clean_col)"
            ],
            "outputs": [],
            "metadata": {}
        },
        {
            "cell_type": "markdown",
            "source": [
                "## 4. 추천 시스템 테스트\n",
                "이상 완성된 추천 시스템 모델을 전처리된 데이터에 적용하여 k개의 추천 항목들을 선정해본다"
            ],
            "metadata": {}
        },
        {
            "cell_type": "code",
            "execution_count": null,
            "source": [
                "# Fit the TF-IDF vectorizer\n",
                "recommender.fit(tf, vectors_tokenized)\n",
                "\n",
                "# Get recommendations\n",
                "top_k_recommendations = recommender.recommend_top_k_items(df_clean, k=5) # 추천 상위 5개"
            ],
            "outputs": [],
            "metadata": {}
        },
        {
            "cell_type": "code",
            "execution_count": null,
            "source": [
                "top_k_recommendations"
            ],
            "outputs": [],
            "metadata": {}
        }
    ],
    "metadata": {
        "orig_nbformat": 4,
        "language_info": {
            "name": "python"
        }
    },
    "nbformat": 4,
    "nbformat_minor": 2
}