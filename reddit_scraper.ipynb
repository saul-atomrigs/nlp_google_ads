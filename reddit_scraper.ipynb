{
  "nbformat": 4,
  "nbformat_minor": 2,
  "metadata": {
    "colab": {
      "name": "reddit_scraper.ipynb",
      "provenance": []
    },
    "kernelspec": {
      "name": "python3",
      "display_name": "Python 3"
    },
    "language_info": {
      "name": "python"
    }
  },
  "cells": [
    {
      "cell_type": "code",
      "execution_count": 3,
      "source": [
        "# https://praw.readthedocs.io/en/stable/index.html\n",
        "import praw # Reddit's API\n",
        "from requests import Session"
      ],
      "outputs": [],
      "metadata": {
        "id": "FS1qedTVCI0o"
      }
    },
    {
      "cell_type": "code",
      "execution_count": 4,
      "source": [
        "session = Session()\n",
        "session.verify = \"../certfile.pem\"\n",
        "reddit = praw.Reddit(\n",
        "    client_id=\"SI8pN3DSbt0zor\",\n",
        "    client_secret=\"xaxkj7HNh8kwg8e5t4m6KvSrbTI\",\n",
        "    password=\"\",\n",
        "    requestor_kwargs={\"session\": session},  # pass Session\n",
        "    user_agent=\"testscript by u/Round_Presentation76\",\n",
        "    username=\"Round_Presentation76\",\n",
        ")"
      ],
      "outputs": [],
      "metadata": {
        "id": "xz34jXU-CSpC"
      }
    },
    {
      "cell_type": "code",
      "execution_count": null,
      "source": [
        "# Reddit 댓글 스크래핑\n",
        "url = \"https://www.reddit.com/r/funny/comments/3g1jfi/buttons/\"\n",
        "submission = reddit.submission(url=url)\n",
        "\n",
        "top_level_comments = list(submission.comments)\n",
        "all_comments = submission.comments.list()\n"
      ],
      "outputs": [],
      "metadata": {
        "id": "XHC7aaWpCgyL"
      }
    }
  ]
}